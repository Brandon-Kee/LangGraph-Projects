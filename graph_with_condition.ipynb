{
 "cells": [
  {
   "cell_type": "code",
   "id": "initial_id",
   "metadata": {
    "collapsed": true,
    "ExecuteTime": {
     "end_time": "2025-08-20T18:19:20.757197Z",
     "start_time": "2025-08-20T18:19:20.708088Z"
    }
   },
   "source": [
    "from typing import TypedDict, Literal\n",
    "\n",
    "class PortfolioState(TypedDict):\n",
    "    amount_usd: float\n",
    "    total_usd: float\n",
    "    target_currency: Literal[\"JPY\", \"EUR\"]\n",
    "    total: float"
   ],
   "outputs": [],
   "execution_count": 7
  },
  {
   "metadata": {
    "ExecuteTime": {
     "end_time": "2025-08-20T18:19:22.331785Z",
     "start_time": "2025-08-20T18:19:22.326857Z"
    }
   },
   "cell_type": "code",
   "source": [
    "def calc_total(state: PortfolioState) -> PortfolioState:\n",
    "    state['total_usd'] = state['amount_usd'] * 1.08\n",
    "    return state\n",
    "\n",
    "def convert_to_jpy(state: PortfolioState) -> PortfolioState:\n",
    "    state['total'] = state['total_usd'] * 146\n",
    "    return state\n",
    "\n",
    "def convert_to_eur(state: PortfolioState) -> PortfolioState:\n",
    "    state['total'] = state['total_usd'] * 0.86\n",
    "    return state\n",
    "\n",
    "def choose_conversion(state: PortfolioState) -> str:\n",
    "    return state[\"target_currency\"]"
   ],
   "id": "28c4a776eceb8a6e",
   "outputs": [],
   "execution_count": 8
  },
  {
   "metadata": {
    "ExecuteTime": {
     "end_time": "2025-08-20T18:19:25.270031Z",
     "start_time": "2025-08-20T18:19:25.247115Z"
    }
   },
   "cell_type": "code",
   "source": [
    "from langgraph.graph import StateGraph, START, END\n",
    "\n",
    "builder = StateGraph(PortfolioState)\n",
    "\n",
    "builder.add_node(\"calc_total_node\", calc_total)\n",
    "builder.add_node(\"convert_to_jpy_node\", convert_to_jpy)\n",
    "builder.add_node(\"convert_to_eur_node\", convert_to_eur)\n",
    "\n",
    "builder.add_edge(START, \"calc_total_node\")\n",
    "builder.add_conditional_edges(\n",
    "    \"calc_total_node\",\n",
    "    choose_conversion,\n",
    "    {\n",
    "        \"JPY\" : \"convert_to_jpy_node\",\n",
    "        \"EUR\" : \"convert_to_eur_node\",\n",
    "    }\n",
    ")\n",
    "builder.add_edge([\"convert_to_eur_node\", \"convert_to_jpy_node\"], END)\n",
    "graph = builder.compile()"
   ],
   "id": "e26c296af09cfbd3",
   "outputs": [],
   "execution_count": 9
  },
  {
   "metadata": {
    "ExecuteTime": {
     "end_time": "2025-08-19T02:27:08.113168Z",
     "start_time": "2025-08-19T02:27:07.169408Z"
    }
   },
   "cell_type": "code",
   "source": [
    "from IPython.display import display, Image\n",
    "\n",
    "display(Image(graph.get_graph().draw_mermaid_png()))"
   ],
   "id": "dacd7e730b44fdaf",
   "outputs": [
    {
     "data": {
      "image/png": "[encoded data removed]",
      "text/plain": [
       "<IPython.core.display.Image object>"
      ]
     },
     "metadata": {},
     "output_type": "display_data"
    }
   ],
   "execution_count": 4
  },
  {
   "metadata": {
    "ExecuteTime": {
     "end_time": "2025-08-19T02:28:15.013169Z",
     "start_time": "2025-08-19T02:28:14.996799Z"
    }
   },
   "cell_type": "code",
   "source": "graph.invoke({\"amount_usd\": 1000, \"target_currency\": \"EUR\"})",
   "id": "5ad7b9d7ad2be7b5",
   "outputs": [
    {
     "data": {
      "text/plain": [
       "{'amount_usd': 1000,\n",
       " 'total_usd': 1080.0,\n",
       " 'target_currency': 'EUR',\n",
       " 'total': 928.8}"
      ]
     },
     "execution_count": 5,
     "metadata": {},
     "output_type": "execute_result"
    }
   ],
   "execution_count": 5
  },
  {
   "metadata": {
    "ExecuteTime": {
     "end_time": "2025-08-20T18:19:31.035259Z",
     "start_time": "2025-08-20T18:19:30.994590Z"
    }
   },
   "cell_type": "code",
   "source": "graph.invoke({\"amount_usd\": 1000, \"target_currency\": \"JPY\"})",
   "id": "3e3f1cde432553e1",
   "outputs": [
    {
     "data": {
      "text/plain": [
       "{'amount_usd': 1000,\n",
       " 'total_usd': 1080.0,\n",
       " 'target_currency': 'JPY',\n",
       " 'total': 157680.0}"
      ]
     },
     "execution_count": 10,
     "metadata": {},
     "output_type": "execute_result"
    }
   ],
   "execution_count": 10
  }
 ],
 "metadata": {
  "kernelspec": {
   "display_name": "Python 3",
   "language": "python",
   "name": "python3"
  },
  "language_info": {
   "codemirror_mode": {
    "name": "ipython",
    "version": 2
   },
   "file_extension": ".py",
   "mimetype": "text/x-python",
   "name": "python",
   "nbconvert_exporter": "python",
   "pygments_lexer": "ipython2",
   "version": "2.7.6"
  }
 },
 "nbformat": 4,
 "nbformat_minor": 5
}
